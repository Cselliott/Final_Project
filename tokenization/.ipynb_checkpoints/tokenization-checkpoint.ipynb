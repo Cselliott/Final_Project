{
 "cells": [
  {
   "cell_type": "code",
   "execution_count": 4,
   "metadata": {},
   "outputs": [
    {
     "data": {
      "text/html": [
       "<div>\n",
       "<style scoped>\n",
       "    .dataframe tbody tr th:only-of-type {\n",
       "        vertical-align: middle;\n",
       "    }\n",
       "\n",
       "    .dataframe tbody tr th {\n",
       "        vertical-align: top;\n",
       "    }\n",
       "\n",
       "    .dataframe thead th {\n",
       "        text-align: right;\n",
       "    }\n",
       "</style>\n",
       "<table border=\"1\" class=\"dataframe\">\n",
       "  <thead>\n",
       "    <tr style=\"text-align: right;\">\n",
       "      <th></th>\n",
       "      <th>timestamp</th>\n",
       "      <th>event</th>\n",
       "      <th>link</th>\n",
       "    </tr>\n",
       "  </thead>\n",
       "  <tbody>\n",
       "    <tr>\n",
       "      <th>0</th>\n",
       "      <td>20071211</td>\n",
       "      <td>Fed announces TAFF.  It supplied short-term cr...</td>\n",
       "      <td>https://www.federalreserve.gov/newsevents/pres...</td>\n",
       "    </tr>\n",
       "    <tr>\n",
       "      <th>1</th>\n",
       "      <td>20071211</td>\n",
       "      <td>The rate of foreclosure filings in December 20...</td>\n",
       "      <td>https://www.thetruthaboutmortgage.com/foreclos...</td>\n",
       "    </tr>\n",
       "    <tr>\n",
       "      <th>2</th>\n",
       "      <td>20080130</td>\n",
       "      <td>There were 57% more foreclosures than 12 month...</td>\n",
       "      <td>NaN</td>\n",
       "    </tr>\n",
       "    <tr>\n",
       "      <th>3</th>\n",
       "      <td>20080318</td>\n",
       "      <td>The Economic Stimulus Act of 2008</td>\n",
       "      <td>https://en.wikipedia.org/wiki/Economic_Stimulu...</td>\n",
       "    </tr>\n",
       "    <tr>\n",
       "      <th>4</th>\n",
       "      <td>20080318</td>\n",
       "      <td>Federal Reserve held the first emergency weeke...</td>\n",
       "      <td>https://www.thebalance.com/top-ten-economic-is...</td>\n",
       "    </tr>\n",
       "  </tbody>\n",
       "</table>\n",
       "</div>"
      ],
      "text/plain": [
       "   timestamp                                              event  \\\n",
       "0   20071211  Fed announces TAFF.  It supplied short-term cr...   \n",
       "1   20071211  The rate of foreclosure filings in December 20...   \n",
       "2   20080130  There were 57% more foreclosures than 12 month...   \n",
       "3   20080318                 The Economic Stimulus Act of 2008    \n",
       "4   20080318  Federal Reserve held the first emergency weeke...   \n",
       "\n",
       "                                                link  \n",
       "0  https://www.federalreserve.gov/newsevents/pres...  \n",
       "1  https://www.thetruthaboutmortgage.com/foreclos...  \n",
       "2                                                NaN  \n",
       "3  https://en.wikipedia.org/wiki/Economic_Stimulu...  \n",
       "4  https://www.thebalance.com/top-ten-economic-is...  "
      ]
     },
     "execution_count": 4,
     "metadata": {},
     "output_type": "execute_result"
    }
   ],
   "source": [
    "import pandas as pd\n",
    "\n",
    "df = pd.read_csv(r'../events\\events.csv')    \n",
    "    \n",
    "# Show DataFrame\n",
    "df.sort_values(by=['timestamp']).head()"
   ]
  },
  {
   "cell_type": "code",
   "execution_count": 2,
   "metadata": {},
   "outputs": [
    {
     "data": {
      "text/plain": [
       "\"There were 57% more foreclosures than 12 months earlier. Existing homes sales rate fell to it's lowest in 10 years\""
      ]
     },
     "execution_count": 2,
     "metadata": {},
     "output_type": "execute_result"
    }
   ],
   "source": [
    "#import nltk\n",
    "from nltk.tokenize import word_tokenize\n",
    "\n",
    "tokenized = \"\".join(df['event'][2])\n",
    "\n",
    "tokenized\n"
   ]
  },
  {
   "cell_type": "code",
   "execution_count": 3,
   "metadata": {},
   "outputs": [
    {
     "name": "stdout",
     "output_type": "stream",
     "text": [
      "['There', 'were', '57', '%', 'more', 'foreclosures', 'than', '12', 'months', 'earlier', '.', 'Existing', 'homes', 'sales', 'rate', 'fell', 'to', 'it', \"'s\", 'lowest', 'in', '10', 'years']\n",
      "\n",
      "['There', '57', '%', 'foreclosures', '12', 'months', 'earlier', '.', 'Existing', 'homes', 'sales', 'rate', 'fell', \"'s\", 'lowest', '10', 'years']\n"
     ]
    }
   ],
   "source": [
    "from nltk.corpus import stopwords\n",
    "\n",
    "stop_words = set(stopwords.words('english')) \n",
    "  \n",
    "word_tokens = word_tokenize(text) \n",
    "  \n",
    "filtered_sentence = [w for w in word_tokens if not w in stop_words] \n",
    "  \n",
    "filtered_sentence = []\n",
    "\n",
    "for w in word_tokens: \n",
    "    if w not in stop_words: \n",
    "        filtered_sentence.append(w) \n",
    "  \n",
    "print(word_tokens) \n",
    "print()\n",
    "print(filtered_sentence) "
   ]
  },
  {
   "cell_type": "code",
   "execution_count": null,
   "metadata": {},
   "outputs": [],
   "source": []
  }
 ],
 "metadata": {
  "kernelspec": {
   "display_name": "Python 3",
   "language": "python",
   "name": "python3"
  },
  "language_info": {
   "codemirror_mode": {
    "name": "ipython",
    "version": 3
   },
   "file_extension": ".py",
   "mimetype": "text/x-python",
   "name": "python",
   "nbconvert_exporter": "python",
   "pygments_lexer": "ipython3",
   "version": "3.7.4"
  }
 },
 "nbformat": 4,
 "nbformat_minor": 2
}
