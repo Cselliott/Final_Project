{
 "cells": [
  {
   "cell_type": "code",
   "execution_count": 1,
   "metadata": {},
   "outputs": [
    {
     "name": "stdout",
     "output_type": "stream",
     "text": [
      "         Date      Djia  Interest  Unemployment  Inflation         C  \\\n",
      "0  12/31/2000  10787.99      6.24           3.9        3.4  11510.94   \n",
      "1  12/31/2001  10021.57      3.88           5.7        1.6  18376.63   \n",
      "2  12/31/2002   8341.63      1.67           6.0        2.4  24805.94   \n",
      "3  12/31/2003  10453.92      1.13           5.7        1.9  26376.91   \n",
      "4  12/31/2004  10783.01      1.35           5.4        3.3  25736.88   \n",
      "\n",
      "        C+D     C+D+E                What happened  \n",
      "0  14908.12  14992.15       NASDAQ?hit record high  \n",
      "1  17372.63  17367.27  Bush tax cuts;?9/11 attacks  \n",
      "2  26204.91  26347.37                War on Terror  \n",
      "3  28616.30  28752.59                       JGTRRA  \n",
      "4  28463.12  28702.36                    Expansion  \n",
      "\n"
     ]
    }
   ],
   "source": [
    "import pandas as pd\n",
    "from pandas import DataFrame\n",
    "from sklearn import linear_model\n",
    "import tkinter as tk \n",
    "import matplotlib.pyplot as plt\n",
    "from matplotlib.backends.backend_tkagg import FigureCanvasTkAgg\n",
    "\n",
    "forecast = pd.read_csv(r'..\\forecasting\\forecasting.csv')\n",
    "\n",
    "df = pd.DataFrame(forecast)\n",
    "print (df.head())\n",
    "print()"
   ]
  },
  {
   "cell_type": "code",
   "execution_count": 2,
   "metadata": {},
   "outputs": [
    {
     "name": "stdout",
     "output_type": "stream",
     "text": [
      "Intercept1: \n",
      " 15689.714533848797\n",
      "Coefficients1: \n",
      " [-633.73277277]\n"
     ]
    }
   ],
   "source": [
    "X1 = df[['Interest']].astype(float)\n",
    "Y1= df['Djia'].astype(float) \n",
    "\n",
    "# with sklearn\n",
    "regr1 = linear_model.LinearRegression()\n",
    "regr1.fit(X1, Y1)\n",
    "\n",
    "print('Intercept1: \\n', regr1.intercept_)\n",
    "print('Coefficients1: \\n', regr1.coef_)"
   ]
  },
  {
   "cell_type": "code",
   "execution_count": 3,
   "metadata": {},
   "outputs": [
    {
     "name": "stdout",
     "output_type": "stream",
     "text": [
      "Intercept2: \n",
      " 33489.60133618628\n",
      "Coefficients2: \n",
      " [-1947.03977398 -2629.85036053]\n"
     ]
    }
   ],
   "source": [
    "X2 = df[['Interest','Unemployment']].astype(float)\n",
    "Y2 = df['Djia'].astype(float) \n",
    "\n",
    "# with sklearn\n",
    "regr2 = linear_model.LinearRegression()\n",
    "regr2.fit(X2, Y2)\n",
    "\n",
    "print('Intercept2: \\n', regr2.intercept_)\n",
    "print('Coefficients2: \\n', regr2.coef_)"
   ]
  },
  {
   "cell_type": "code",
   "execution_count": 4,
   "metadata": {},
   "outputs": [
    {
     "name": "stdout",
     "output_type": "stream",
     "text": [
      "Intercept3: \n",
      " 33661.93634091341\n",
      "Coefficients3: \n",
      " [-1899.04359058 -2616.63116509  -158.27145979]\n"
     ]
    }
   ],
   "source": [
    "X3 = df[['Interest','Unemployment','Inflation']].astype(float) \n",
    "Y3 = df['Djia'].astype(float) \n",
    "\n",
    "# with sklearn\n",
    "regr3= linear_model.LinearRegression()\n",
    "regr3.fit(X3, Y3)\n",
    "\n",
    "print('Intercept3: \\n', regr3.intercept_)\n",
    "print('Coefficients3: \\n', regr3.coef_)"
   ]
  },
  {
   "cell_type": "code",
   "execution_count": null,
   "metadata": {},
   "outputs": [],
   "source": [
    "# tkinter GUI\n",
    "root= tk.Tk()\n",
    "\n",
    "canvas1 = tk.Canvas(root, width = 1200, height = 140)\n",
    "canvas1.pack()\n",
    "\n",
    "# with sklearn 01\n",
    "Intercept_result1 = ('Intercept1: ', regr1.intercept_)\n",
    "label_Intercept1 = tk.Label(root, text=Intercept_result1, justify = 'center')\n",
    "canvas1.create_window(400, 60, window=label_Intercept1)\n",
    "\n",
    "# with sklearn 01\n",
    "Coefficients_result1  = ('Coefficients1: ', regr1.coef_)\n",
    "label_Coefficients1 = tk.Label(root, text=Coefficients_result1, justify = 'center')\n",
    "canvas1.create_window(400, 80, window=label_Coefficients1)\n",
    "\n",
    "# with sklearn 02\n",
    "Intercept_result2 = ('Intercept2: ', regr2.intercept_)\n",
    "label_Intercept2 = tk.Label(root, text=Intercept_result2, justify = 'center')\n",
    "canvas1.create_window(650, 60, window=label_Intercept2)\n",
    "\n",
    "# with sklearn 02\n",
    "Coefficients_result2  = ('Coefficients2: ', regr2.coef_)\n",
    "label_Coefficients2 = tk.Label(root, text=Coefficients_result2, justify = 'center')\n",
    "canvas1.create_window(650, 80, window=label_Coefficients2)\n",
    "\n",
    "# with sklearn 03\n",
    "Intercept_result3 = ('Intercept3: ', regr3.intercept_)\n",
    "label_Intercept3 = tk.Label(root, text=Intercept_result3, justify = 'center')\n",
    "canvas1.create_window(990, 60, window=label_Intercept3)\n",
    "\n",
    "# with sklearn 03\n",
    "Coefficients_result3  = ('Coefficients3: ', regr3.coef_)\n",
    "label_Coefficients3 = tk.Label(root, text=Coefficients_result3, justify = 'center')\n",
    "canvas1.create_window(990, 80, window=label_Coefficients3)\n",
    "\n",
    "# New_Interest_Rate label and input box\n",
    "label1 = tk.Label(root, text='Interest Rate: ')\n",
    "canvas1.create_window(120, 30, window=label1)\n",
    "\n",
    "entry1 = tk.Entry (root) # create 1st entry box\n",
    "canvas1.create_window(220, 30, window=entry1)\n",
    "\n",
    "# New_Unemployment_Rate label and input box\n",
    "label2 = tk.Label(root, text='Unemployment Rate: ')\n",
    "canvas1.create_window(100, 50, window=label2)\n",
    "\n",
    "entry2 = tk.Entry (root) # create 2nd entry box\n",
    "canvas1.create_window(220, 50, window=entry2)\n",
    "\n",
    "# New_Inflation label and input box\n",
    "label3 = tk.Label(root, text='Inflation Rate: ')\n",
    "canvas1.create_window(120, 70, window=label3)\n",
    "\n",
    "entry3 = tk.Entry (root) # create 2nd entry box\n",
    "canvas1.create_window(220, 70, window=entry3)\n",
    "\n",
    "def values1(): \n",
    "    global New_Interest_Rate1 #our 1st input variable\n",
    "    New_Interest_Rate1 = float(entry1.get()) \n",
    "    \n",
    "    Prediction_result1  = ('Predicted Djia 1: ', regr1.predict([[New_Interest_Rate1]]))\n",
    "    \n",
    "    label_Prediction1 = tk.Label(root, text= Prediction_result1, bg='yellow')\n",
    "    canvas1.create_window(400, 120, window=label_Prediction1)\n",
    "    \n",
    "button1 = tk.Button (root, text='Predict Djia 1',command=values1, bg='orange') # button to call the 'values' command above \n",
    "canvas1.create_window(400, 30, window=button1)\n",
    " \n",
    "def values2(): \n",
    "    global New_Interest_Rate2 #our 1st input variable\n",
    "    New_Interest_Rate2 = float(entry1.get()) \n",
    "    \n",
    "    global New_Unemployment_Rate2 #our 2nd input variable\n",
    "    New_Unemployment_Rate2 = float(entry2.get()) \n",
    "    \n",
    "    Prediction_result2  = ('Predicted Djia 2: ', regr2.predict([[New_Interest_Rate2, New_Unemployment_Rate2]]))\n",
    "    \n",
    "    label_Prediction2 = tk.Label(root, text= Prediction_result2, bg='yellow')\n",
    "    canvas1.create_window(650, 120, window=label_Prediction2)\n",
    "    \n",
    "button2 = tk.Button (root, text='Predict Djia 2',command=values2, bg='orange') # button to call the 'values' command above \n",
    "canvas1.create_window(650, 30, window=button2)\n",
    "\n",
    "def values3(): \n",
    "    global New_Interest_Rate3 #our 1st input variable\n",
    "    New_Interest_Rate3 = float(entry1.get()) \n",
    "    \n",
    "    global New_Unemployment_Rate3 #our 2nd input variable\n",
    "    New_Unemployment_Rate3 = float(entry2.get()) \n",
    "    \n",
    "    global New_Inflation_Rate3 #our 3nd input variable\n",
    "    New_Inflation_Rate3 = float(entry3.get())\n",
    "    \n",
    "    Prediction_result3  = ('Predicted Djia 3: ', regr3.predict([[New_Interest_Rate3, New_Unemployment_Rate3, New_Inflation_Rate3]]))\n",
    "    \n",
    "    label_Prediction3 = tk.Label(root, text= Prediction_result3, bg='yellow')\n",
    "    canvas1.create_window(990, 120, window=label_Prediction3)\n",
    "    \n",
    "button3 = tk.Button (root, text='Predict Djia 3',command=values3, bg='orange') # button to call the 'values' command above \n",
    "canvas1.create_window(990, 30, window=button3)\n",
    "\n",
    "root.mainloop()"
   ]
  },
  {
   "cell_type": "code",
   "execution_count": null,
   "metadata": {},
   "outputs": [],
   "source": []
  }
 ],
 "metadata": {
  "kernelspec": {
   "display_name": "Python 3",
   "language": "python",
   "name": "python3"
  },
  "language_info": {
   "codemirror_mode": {
    "name": "ipython",
    "version": 3
   },
   "file_extension": ".py",
   "mimetype": "text/x-python",
   "name": "python",
   "nbconvert_exporter": "python",
   "pygments_lexer": "ipython3",
   "version": "3.7.4"
  }
 },
 "nbformat": 4,
 "nbformat_minor": 2
}
