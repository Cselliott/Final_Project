{
 "cells": [
  {
   "cell_type": "code",
   "execution_count": 1,
   "metadata": {},
   "outputs": [
    {
     "name": "stderr",
     "output_type": "stream",
     "text": [
      "[nltk_data] Downloading package movie_reviews to\n",
      "[nltk_data]     /Users/800017409/nltk_data...\n",
      "[nltk_data]   Package movie_reviews is already up-to-date!\n"
     ]
    },
    {
     "data": {
      "text/plain": [
       "True"
      ]
     },
     "execution_count": 1,
     "metadata": {},
     "output_type": "execute_result"
    }
   ],
   "source": [
    "# Dependencies\n",
    "import tweepy\n",
    "from textblob import TextBlob\n",
    "from textblob.sentiments import NaiveBayesAnalyzer  # defaults to Pattern\n",
    "import nltk\n",
    "nltk.download('movie_reviews')\n"
   ]
  },
  {
   "cell_type": "code",
   "execution_count": 2,
   "metadata": {},
   "outputs": [],
   "source": [
    "# API key\n",
    "\n",
    "consumer_key= 'QCsJRV19sJISZGgf6nejueRSa'\n",
    "consumer_secret= 'dIHax7H9JilXKd6NhfN4upwVtVdzpflRH0KEeJZ3PLX1czRRI3'\n",
    "access_token= '56790330-R1bjHJyD0mnyM3KC4AsoJMLF6Zp2pPKrnF72TkjUq'\n",
    "access_token_secret= 'kefXSwJh22Dn3diySnF9kohWbPCgtjo9wDEwuTCTV4LXF'"
   ]
  },
  {
   "cell_type": "code",
   "execution_count": 3,
   "metadata": {},
   "outputs": [],
   "source": [
    "# Tweepy \n",
    "\n",
    "auth = tweepy.OAuthHandler(consumer_key, consumer_secret)\n",
    "auth.set_access_token(access_token, access_token_secret)\n",
    "\n",
    "api= tweepy.API(auth)"
   ]
  },
  {
   "cell_type": "code",
   "execution_count": 4,
   "metadata": {},
   "outputs": [],
   "source": [
    "# Search Twitter for subjects\n",
    "\n",
    "public_tweets = api.search('recession')\n"
   ]
  },
  {
   "cell_type": "code",
   "execution_count": 6,
   "metadata": {},
   "outputs": [],
   "source": [
    "all_tweets = [tweet.text for tweet in public_tweets]\n",
    "\n",
    "\n",
    "def remove_url(txt):\n",
    "    return \" \".join(re.sub(\"([^0-9A-Za-z \\t])|(\\w+:\\/\\/\\S+)\", \"\", txt).split())\n",
    "public_tweets_no_urls = [remove_url(tweet) for tweet in all_tweets]"
   ]
  },
  {
   "cell_type": "code",
   "execution_count": 7,
   "metadata": {},
   "outputs": [
    {
     "name": "stdout",
     "output_type": "stream",
     "text": [
      "@asymons33 @augiechapas @rumpole2 @RandPaul Yes he is, he’s registered as a Republican. Best senator! Just think if… https://t.co/hyygb993Gs\n",
      "Sentiment(polarity=1.0, subjectivity=0.3)\n",
      "Positive\n",
      "\n",
      "RT @dlacalle_IA: Spain 🇪🇸 will miss -again- its already revised deficit target and request a higher deficit from Brussels.\n",
      "\n",
      "This in a year…\n",
      "Sentiment(polarity=0.25, subjectivity=0.5)\n",
      "Positive\n",
      "\n",
      "@usarouse @RogueLeaderLA @cvpayne @AOC I like how conservatives are pretending it no longer matters after endlessly… https://t.co/92ua0P8mk2\n",
      "Sentiment(polarity=0.0, subjectivity=0.0)\n",
      "Negative\n",
      "\n",
      "@VitalVegas Better sell now before the next recession\n",
      "Sentiment(polarity=0.25, subjectivity=0.25)\n",
      "Positive\n",
      "\n",
      "@juicycaturra 09-10: Sbux the only employer who calls me for an interview during the recession\n",
      "10-12: Mgr for a bak… https://t.co/BGJzXaN8RX\n",
      "Sentiment(polarity=0.0, subjectivity=1.0)\n",
      "Negative\n",
      "\n",
      "Retirement planning, it’s always about what you can control, NOT what you cannot control.\n",
      "A ‘Replace Anxiety with A… https://t.co/3o3zQ0FNOj\n",
      "Sentiment(polarity=0.0, subjectivity=0.0)\n",
      "Negative\n",
      "\n",
      "@ScottTBrower1 Recession! https://t.co/wrtZnWi7e2\n",
      "Sentiment(polarity=0.0, subjectivity=0.0)\n",
      "Negative\n",
      "\n",
      "RT @AyeshaArooj172: Both these policies reduce inflation by reducing the growth of aggregate demand. If economic growth is rapid, reducing…\n",
      "Sentiment(polarity=0.2, subjectivity=0.2)\n",
      "Positive\n",
      "\n",
      "RT @skepticaliblog: Not even Jerry Brown expanded entitlements.\n",
      "\n",
      "Newsom is expanding expensive services &amp; benefits that are perhaps impossi…\n",
      "Sentiment(polarity=-0.5, subjectivity=0.7)\n",
      "Negative\n",
      "\n",
      "RT @MoHossain: #Investors have poured record amounts of money into #privatecredit #funds, attracted by the promise of higher returns and lo…\n",
      "Sentiment(polarity=0.25, subjectivity=0.5)\n",
      "Positive\n",
      "\n",
      "RT @BayTalentGroup: Stockhouse Publishing Ltd. highlights our proven and recession-resilient play in the billion dollar #staffing market. R…\n",
      "Sentiment(polarity=0.0, subjectivity=0.0)\n",
      "Negative\n",
      "\n",
      "RT @sonicstadium: The recession hit Sonic's world pretty hard.\n",
      "Sentiment(polarity=-0.020833333333333343, subjectivity=0.7708333333333333)\n",
      "Negative\n",
      "\n",
      "RT @business: Paraguay is set to retake its position among the fastest-growing South American economies in 2020 https://t.co/tnIC6UFLAZ\n",
      "Sentiment(polarity=0.0, subjectivity=0.0)\n",
      "Negative\n",
      "\n",
      "RT @sonicstadium: The recession hit Sonic's world pretty hard.\n",
      "Sentiment(polarity=-0.020833333333333343, subjectivity=0.7708333333333333)\n",
      "Negative\n",
      "\n",
      "RT @sumitkashyapjha: BJP MP Minakshi Lekhi calls Satya Nadella, CEO, Microsoft uneducated.\n",
      "\n",
      "Also, sometime back Minakshi Lekhi wrote a colu…\n",
      "Sentiment(polarity=0.0, subjectivity=0.0)\n",
      "Negative\n",
      "\n"
     ]
    }
   ],
   "source": [
    "for tweet in public_tweets:\n",
    "    print(tweet.text)\n",
    "    analysis = TextBlob(tweet.text)\n",
    "    print(analysis.sentiment)\n",
    "    if analysis.sentiment[0]>0:\n",
    "        print ('Positive')\n",
    "    else:\n",
    "        print ('Negative')\n",
    "    print(\"\")"
   ]
  },
  {
   "cell_type": "code",
   "execution_count": 8,
   "metadata": {},
   "outputs": [
    {
     "name": "stdout",
     "output_type": "stream",
     "text": [
      "Chinese : @ asymons33 @augiechapas @ rumpole2 @RandPaul是的，他已经注册为共和党人。最好的参议员！试想一下... https://t.co/hyygb993Gs\n",
      "Positive\n",
      "\n",
      "Chinese : RT @dlacalle_IA：西班牙将再次错过已经修正的赤字目标，并要求布鲁塞尔增加赤字。\n",
      "\n",
      "这一年\n",
      "Positive\n",
      "\n",
      "Chinese : @usarouse @RogueLeaderLA @cvpayne @AOC我喜欢保守派如何假装它，无休止地不再重要……https://t.co/92ua0P8mk2\n",
      "Negative\n",
      "\n",
      "Chinese : @VitalVegas最好在下一次经济衰退之前卖出\n",
      "Positive\n",
      "\n",
      "Chinese : @juicycaturra 09-10：在经济衰退期间，Sbux是唯一一个打电话给我进行面试的雇主\n",
      "10-12：经理要打架…https://t.co/BGJzXaN8RX\n",
      "Negative\n",
      "\n",
      "Chinese : 退休计划始终是您可以控制的，而不是您无法控制的。\n",
      "“用A代替焦虑” https://t.co/3o3zQ0FNOj\n",
      "Negative\n",
      "\n",
      "Chinese : @ ScottTBrower1经济衰退！ https://t.co/wrtZnWi7e2\n",
      "Negative\n",
      "\n",
      "Chinese : RT @ AyeshaArooj172：这两项政策都通过降低总需求的增长来降低通货膨胀。如果经济增长迅速，就会减少…\n",
      "Positive\n",
      "\n",
      "Chinese : RT @skepticaliblog：甚至杰里·布朗都没有扩大权利。\n",
      "\n",
      "Newsom正在扩展昂贵的服务和可能带来的好处…\n",
      "Negative\n",
      "\n",
      "Chinese : RT @MoHossain：＃投资者将创纪录的资金投入＃私人信贷＃基金，这是由更高回报和更低承诺所吸引的。\n",
      "Positive\n",
      "\n",
      "Chinese : RT @BayTalentGroup：Stockhouse Publishing Ltd.重点介绍了我们在数十亿美元的#staffing市场中久经考验且具有抗衰退能力的产品。 R…\n",
      "Negative\n",
      "\n",
      "Chinese : RT @sonicstadium：经济衰退严重打击了Sonic的世界。\n",
      "Negative\n",
      "\n",
      "Chinese : RT @business：巴拉圭有望在2020年重新成为南美增长最快的经济体中的地位https://t.co/tnIC6UFLAZ\n",
      "Negative\n",
      "\n",
      "Chinese : RT @sonicstadium：经济衰退严重打击了Sonic的世界。\n",
      "Negative\n",
      "\n",
      "Chinese : RT @sumitkashyapjha：BJP议员Minakshi Lekhi致电Microsoft首席执行官Satya Nadella，未接受过教育。\n",
      "\n",
      "此外，有时Minakshi Lekhi曾写过一首歌…\n",
      "Negative\n",
      "\n"
     ]
    }
   ],
   "source": [
    "for tweet in public_tweets:\n",
    "    newtweet = TextBlob(tweet.text)\n",
    "    print(u\"Chinese : {}\".format(newtweet.translate(from_lang=\"en-US\", to='zh-CN')))\n",
    "    \n",
    "    if newtweet.sentiment[0]>0:\n",
    "        print ('Positive')\n",
    "    else:\n",
    "        print ('Negative')\n",
    "    print(\"\")"
   ]
  },
  {
   "cell_type": "code",
   "execution_count": 15,
   "metadata": {},
   "outputs": [
    {
     "name": "stdout",
     "output_type": "stream",
     "text": [
      "asymons33 augiechapas rumpole2 RandPaul Yes he is hes registered as a Republican Best senator Just think if\n",
      "Sentiment(classification='pos', p_pos=0.6676642799767024, p_neg=0.3323357200232977)\n",
      "\n",
      "RT dlacalleIA Spain will miss again its already revised deficit target and request a higher deficit from BrusselsThis in a year\n",
      "Sentiment(classification='pos', p_pos=0.9579040264810635, p_neg=0.04209597351893437)\n",
      "\n",
      "usarouse RogueLeaderLA cvpayne AOC I like how conservatives are pretending it no longer matters after endlessly\n",
      "Sentiment(classification='pos', p_pos=0.9217972328687479, p_neg=0.07820276713125428)\n",
      "\n",
      "VitalVegas Better sell now before the next recession\n",
      "Sentiment(classification='neg', p_pos=0.43905840038029675, p_neg=0.560941599619703)\n",
      "\n",
      "juicycaturra 0910 Sbux the only employer who calls me for an interview during the recession1012 Mgr for a bak\n",
      "Sentiment(classification='pos', p_pos=0.8450941160709751, p_neg=0.15490588392902493)\n",
      "\n",
      "Retirement planning its always about what you can control NOT what you cannot controlA Replace Anxiety with A\n",
      "Sentiment(classification='neg', p_pos=0.4985415811038193, p_neg=0.5014584188961816)\n",
      "\n",
      "ScottTBrower1 Recession\n",
      "Sentiment(classification='pos', p_pos=0.5, p_neg=0.5)\n",
      "\n",
      "RT AyeshaArooj172 Both these policies reduce inflation by reducing the growth of aggregate demand If economic growth is rapid reducing\n",
      "Sentiment(classification='pos', p_pos=0.9718004910980265, p_neg=0.02819950890197171)\n",
      "\n",
      "RT skepticaliblog Not even Jerry Brown expanded entitlementsNewsom is expanding expensive services amp benefits that are perhaps impossi\n",
      "Sentiment(classification='pos', p_pos=0.9698994869022532, p_neg=0.03010051309774664)\n",
      "\n",
      "RT MoHossain Investors have poured record amounts of money into privatecredit funds attracted by the promise of higher returns and lo\n",
      "Sentiment(classification='neg', p_pos=0.26443056494374856, p_neg=0.7355694350562518)\n",
      "\n",
      "RT BayTalentGroup Stockhouse Publishing Ltd highlights our proven and recessionresilient play in the billion dollar staffing market R\n",
      "Sentiment(classification='pos', p_pos=0.8671829001464542, p_neg=0.13281709985354362)\n",
      "\n",
      "RT sonicstadium The recession hit Sonics world pretty hard\n",
      "Sentiment(classification='neg', p_pos=0.49071310012516717, p_neg=0.5092868998748328)\n",
      "\n",
      "RT business Paraguay is set to retake its position among the fastestgrowing South American economies in 2020\n",
      "Sentiment(classification='neg', p_pos=0.25740272304820516, p_neg=0.7425972769517951)\n",
      "\n",
      "RT sonicstadium The recession hit Sonics world pretty hard\n",
      "Sentiment(classification='neg', p_pos=0.49071310012516717, p_neg=0.5092868998748328)\n",
      "\n",
      "RT sumitkashyapjha BJP MP Minakshi Lekhi calls Satya Nadella CEO Microsoft uneducatedAlso sometime back Minakshi Lekhi wrote a colu\n",
      "Sentiment(classification='pos', p_pos=0.8880659834533894, p_neg=0.11193401654661236)\n",
      "\n"
     ]
    }
   ],
   "source": [
    "for tweet in public_tweets_no_urls:\n",
    "    print(tweet)\n",
    "    analysis = TextBlob(tweet, analyzer=NaiveBayesAnalyzer())\n",
    "    print(analysis.sentiment)\n",
    "    print(\"\")\n",
    "     "
   ]
  },
  {
   "cell_type": "code",
   "execution_count": null,
   "metadata": {},
   "outputs": [],
   "source": []
  }
 ],
 "metadata": {
  "kernelspec": {
   "display_name": "Python 3",
   "language": "python",
   "name": "python3"
  },
  "language_info": {
   "codemirror_mode": {
    "name": "ipython",
    "version": 3
   },
   "file_extension": ".py",
   "mimetype": "text/x-python",
   "name": "python",
   "nbconvert_exporter": "python",
   "pygments_lexer": "ipython3",
   "version": "3.7.4"
  }
 },
 "nbformat": 4,
 "nbformat_minor": 2
}
