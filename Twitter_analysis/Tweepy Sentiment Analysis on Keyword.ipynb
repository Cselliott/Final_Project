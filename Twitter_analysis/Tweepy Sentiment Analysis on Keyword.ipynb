{
 "cells": [
  {
   "cell_type": "code",
   "execution_count": 1,
   "metadata": {},
   "outputs": [
    {
     "name": "stderr",
     "output_type": "stream",
     "text": [
      "[nltk_data] Downloading package movie_reviews to\n",
      "[nltk_data]     /Users/800017409/nltk_data...\n",
      "[nltk_data]   Package movie_reviews is already up-to-date!\n"
     ]
    },
    {
     "data": {
      "text/plain": [
       "True"
      ]
     },
     "execution_count": 1,
     "metadata": {},
     "output_type": "execute_result"
    }
   ],
   "source": [
    "# Dependencies\n",
    "import tweepy\n",
    "from textblob import TextBlob\n",
    "from textblob.sentiments import NaiveBayesAnalyzer  # defaults to Pattern\n",
    "import nltk\n",
    "nltk.download('movie_reviews')\n"
   ]
  },
  {
   "cell_type": "code",
   "execution_count": 2,
   "metadata": {},
   "outputs": [],
   "source": [
    "# API key\n",
    "\n",
    "consumer_key= 'XgLfVqV7ADXpG5EHnMgyx3xwo'\n",
    "consumer_secret= '870pskWxaItAxxqdeHK5bbLcfvAv41mSDKgzl9t0YH47ImCHKS'\n",
    "access_token= '56790330-wAee8FiCqQp6AIlaXDrZHfJVa5IDmMwmlPmU2fOqG'\n",
    "access_token_secret= 'lCfFwqHmMCxREpuicnyC2Hs6o4OlVUi0hnzle5Xk24r8n'"
   ]
  },
  {
   "cell_type": "code",
   "execution_count": 3,
   "metadata": {},
   "outputs": [],
   "source": [
    "# Tweepy \n",
    "\n",
    "auth = tweepy.OAuthHandler(consumer_key, consumer_secret)\n",
    "auth.set_access_token(access_token, access_token_secret)\n",
    "\n",
    "api= tweepy.API(auth)"
   ]
  },
  {
   "cell_type": "code",
   "execution_count": 4,
   "metadata": {},
   "outputs": [],
   "source": [
    "# Search Twitter for subjects\n",
    "\n",
    "public_tweets = api.search('interest rates')\n"
   ]
  },
  {
   "cell_type": "code",
   "execution_count": 5,
   "metadata": {},
   "outputs": [
    {
     "name": "stdout",
     "output_type": "stream",
     "text": [
      "@PeterSchiff Just a slight move up in interest rates and the US is in checkmate. Predicting this is like predicting… https://t.co/GzRAJ32jv3\n",
      "Sentiment(polarity=-0.16666666666666666, subjectivity=0.16666666666666666)\n",
      "Negative\n",
      "\n",
      "@mikeharrisNY GDP is a point in time measure of output for a year whereas Market cap is a discounted value of futur… https://t.co/hvXVsrwJf0\n",
      "Sentiment(polarity=0.0, subjectivity=0.0)\n",
      "Negative\n",
      "\n",
      "RT @priyankagandhi: जब देश में जगह-जगह पर तनाव ज्यादा बढ़ जाए तो समझ लीजिए कि सरकार छुप-छुप कर कोई बड़ा झटका देने वाली है। \n",
      "\n",
      "भारत के कर्मचा…\n",
      "Sentiment(polarity=0.0, subjectivity=0.0)\n",
      "Negative\n",
      "\n",
      "RT @iamjayedavid: @CurtisScoon The economy isn’t strong in reality. The economy is actually in poor shape but the stock market is looking r…\n",
      "Sentiment(polarity=0.016666666666666635, subjectivity=0.6666666666666666)\n",
      "Positive\n",
      "\n",
      "So interesting! Proud to say I have no credit card debt as I have tried to be cautious, but even with my monthly pa… https://t.co/CacfWmkuy3\n",
      "Sentiment(polarity=0.7125, subjectivity=0.75)\n",
      "Positive\n",
      "\n",
      "RT @priyankagandhi: जब देश में जगह-जगह पर तनाव ज्यादा बढ़ जाए तो समझ लीजिए कि सरकार छुप-छुप कर कोई बड़ा झटका देने वाली है। \n",
      "\n",
      "भारत के कर्मचा…\n",
      "Sentiment(polarity=0.0, subjectivity=0.0)\n",
      "Negative\n",
      "\n",
      "RT @capital_sb: Pay lower interest rates, get approved for the best credit cards, not pay down payments or lower down payments\n",
      "Sentiment(polarity=0.22962962962962963, subjectivity=0.29259259259259257)\n",
      "Positive\n",
      "\n",
      "@WaysandMeansGOP Pump up by FED low interest rates AND FED buying up bonds.\n",
      "\n",
      "It'll fall apart soon.\n",
      "\n",
      "Get your 401k… https://t.co/t7mO8DSwU3\n",
      "Sentiment(polarity=0.0, subjectivity=0.3)\n",
      "Negative\n",
      "\n",
      "@RalphMusgrave @mtmalinen A false dichotomy as we do not *need* a central bank.  Hoarding commands 0% interest beca… https://t.co/tfPGeKCUE7\n",
      "Sentiment(polarity=-0.20000000000000004, subjectivity=0.425)\n",
      "Negative\n",
      "\n",
      "@logic_tester @vancanste @benshapiro You mean the EU gave loans to the Irish government at massive interest rates a… https://t.co/bbi6OYvMoV\n",
      "Sentiment(polarity=-0.10416666666666667, subjectivity=0.5625)\n",
      "Negative\n",
      "\n",
      "Low interest rates mean recalculating the retirement income formula\n",
      "Sentiment(polarity=-0.15625, subjectivity=0.49375)\n",
      "Negative\n",
      "\n",
      "RT @steel_bolt: The super-rich have taken out 185 £5m-plus mortgages over the past year to take advantage of historically low interest rate…\n",
      "Sentiment(polarity=-0.125, subjectivity=0.275)\n",
      "Negative\n",
      "\n",
      "RT @ecb: Lagarde on low rates: Interest rates are instruments rather than objectives in themselves. In the medium to long term, low rates e…\n",
      "Sentiment(polarity=-0.016666666666666666, subjectivity=0.3333333333333333)\n",
      "Negative\n",
      "\n",
      "@BernieSanders Even if the only thing the government did was lower the interest rates (retroactively) and pick up t… https://t.co/ge0iiFc4Jl\n",
      "Sentiment(polarity=0.0, subjectivity=1.0)\n",
      "Negative\n",
      "\n",
      "RT @Charlesfrize: #Mortgages - Effects Of Interest Rates #Finance #Money #FrizeMedia https://t.co/NkM02hJFVl\n",
      "Sentiment(polarity=0.0, subjectivity=0.0)\n",
      "Negative\n",
      "\n"
     ]
    }
   ],
   "source": [
    "for tweet in public_tweets:\n",
    "    print(tweet.text)\n",
    "    analysis = TextBlob(tweet.text)\n",
    "    print(analysis.sentiment)\n",
    "    if analysis.sentiment[0]>0:\n",
    "        print ('Positive')\n",
    "    else:\n",
    "        print ('Negative')\n",
    "    print(\"\")"
   ]
  },
  {
   "cell_type": "code",
   "execution_count": null,
   "metadata": {},
   "outputs": [],
   "source": [
    "analysis"
   ]
  }
 ],
 "metadata": {
  "kernelspec": {
   "display_name": "Python 3",
   "language": "python",
   "name": "python3"
  },
  "language_info": {
   "codemirror_mode": {
    "name": "ipython",
    "version": 3
   },
   "file_extension": ".py",
   "mimetype": "text/x-python",
   "name": "python",
   "nbconvert_exporter": "python",
   "pygments_lexer": "ipython3",
   "version": "3.7.4"
  }
 },
 "nbformat": 4,
 "nbformat_minor": 2
}
