{
 "cells": [
  {
   "cell_type": "code",
   "execution_count": 1,
   "metadata": {},
   "outputs": [
    {
     "name": "stderr",
     "output_type": "stream",
     "text": [
      "[nltk_data] Downloading package movie_reviews to\n",
      "[nltk_data]     /Users/800017409/nltk_data...\n",
      "[nltk_data]   Package movie_reviews is already up-to-date!\n"
     ]
    },
    {
     "data": {
      "text/plain": [
       "True"
      ]
     },
     "execution_count": 1,
     "metadata": {},
     "output_type": "execute_result"
    }
   ],
   "source": [
    "# Dependencies\n",
    "import tweepy\n",
    "from textblob import TextBlob\n",
    "from textblob.sentiments import NaiveBayesAnalyzer  # defaults to Pattern\n",
    "import nltk\n",
    "nltk.download('movie_reviews')\n"
   ]
  },
  {
   "cell_type": "code",
   "execution_count": 2,
   "metadata": {},
   "outputs": [],
   "source": [
    "# API key\n",
    "\n",
    "consumer_key= 'XgLfVqV7ADXpG5EHnMgyx3xwo'\n",
    "consumer_secret= '870pskWxaItAxxqdeHK5bbLcfvAv41mSDKgzl9t0YH47ImCHKS'\n",
    "access_token= '56790330-wAee8FiCqQp6AIlaXDrZHfJVa5IDmMwmlPmU2fOqG'\n",
    "access_token_secret= 'lCfFwqHmMCxREpuicnyC2Hs6o4OlVUi0hnzle5Xk24r8n'"
   ]
  },
  {
   "cell_type": "code",
   "execution_count": 3,
   "metadata": {},
   "outputs": [],
   "source": [
    "# Tweepy \n",
    "\n",
    "auth = tweepy.OAuthHandler(consumer_key, consumer_secret)\n",
    "auth.set_access_token(access_token, access_token_secret)\n",
    "\n",
    "api= tweepy.API(auth)"
   ]
  },
  {
   "cell_type": "code",
   "execution_count": 4,
   "metadata": {},
   "outputs": [],
   "source": [
    "# Search Twitter for subjects\n",
    "\n",
    "public_tweets = api.search('interest rates')\n"
   ]
  },
  {
   "cell_type": "code",
   "execution_count": 5,
   "metadata": {},
   "outputs": [
    {
     "name": "stdout",
     "output_type": "stream",
     "text": [
      "RT @Jerusalem_Post: #Israeli interest rates to remain unchanged. \n",
      "\n",
      "Reporting by @eytanhalon.   \n",
      "\n",
      "https://t.co/hMVOYvhQtr\n",
      "Sentiment(polarity=0.0, subjectivity=0.0)\n",
      "Negative\n",
      "\n",
      "RT @priyankagandhi: जब देश में जगह-जगह पर तनाव ज्यादा बढ़ जाए तो समझ लीजिए कि सरकार छुप-छुप कर कोई बड़ा झटका देने वाली है। \n",
      "\n",
      "भारत के कर्मचा…\n",
      "Sentiment(polarity=0.0, subjectivity=0.0)\n",
      "Negative\n",
      "\n",
      "@TVietor08 @axios A friend of mine who’s buying a house got her interest rate locked in yesterday and her agent sai… https://t.co/yZvXLlXmsn\n",
      "Sentiment(polarity=0.0, subjectivity=0.0)\n",
      "Negative\n",
      "\n",
      "Trump is delousinal. The sticks may at all time highs but that because they've been hyper-inflated through low inte… https://t.co/TFG8XlhKfk\n",
      "Sentiment(polarity=0.0, subjectivity=0.3)\n",
      "Negative\n",
      "\n",
      "With low interest rates, modest inflation and a solid labor market, there are many reasons to be optimistic about h… https://t.co/fV6nzpNqDh\n",
      "Sentiment(polarity=0.15, subjectivity=0.45)\n",
      "Positive\n",
      "\n",
      "RT @priyankagandhi: जब देश में जगह-जगह पर तनाव ज्यादा बढ़ जाए तो समझ लीजिए कि सरकार छुप-छुप कर कोई बड़ा झटका देने वाली है। \n",
      "\n",
      "भारत के कर्मचा…\n",
      "Sentiment(polarity=0.0, subjectivity=0.0)\n",
      "Negative\n",
      "\n",
      "RT @bswud: Yes, house prices are up because of interest rates. No, this doesn’t mean there is no shortage of housing.\n",
      "Sentiment(polarity=-0.3125, subjectivity=0.6875)\n",
      "Negative\n",
      "\n",
      "Imagine if Interest rates weren’t so high! Thanks for the Capital Gains, Donald! https://t.co/4EgDddNmDL\n",
      "Sentiment(polarity=0.225, subjectivity=0.37)\n",
      "Positive\n",
      "\n",
      "@silvermomma Hi, interest rates are not set but Nelnet but by Congress. Deferments and forbearances can also play a… https://t.co/VkcsT9yMA8\n",
      "Sentiment(polarity=0.0, subjectivity=0.0)\n",
      "Negative\n",
      "\n",
      "@HrReisen no, the real estate argument is about whether low interest rates are a driver or supply constraints. Cent… https://t.co/x1MRN4R2DK\n",
      "Sentiment(polarity=0.1, subjectivity=0.30000000000000004)\n",
      "Positive\n",
      "\n",
      "RT @crypto_voices: On this 9-Jan come have a listen to the🎉3-year anniversary show🎉of @crypto_voices, with @nvk!! It's a packed one, on the…\n",
      "Sentiment(polarity=0.0, subjectivity=0.0)\n",
      "Negative\n",
      "\n",
      "@Parandeh_Art @StreetFightr3rd @AyannaPressley Have you seen our stock market and unemployment numbers? Interest ra… https://t.co/eidHV9QfAB\n",
      "Sentiment(polarity=0.0, subjectivity=0.0)\n",
      "Negative\n",
      "\n",
      "NEED YOUR LISTING...\n",
      "\n",
      "Inventory is low and so are interest rates. Buyers are looking...\n",
      "\n",
      "Now's the time to sell you… https://t.co/RmQhMPOhZQ\n",
      "Sentiment(polarity=0.0, subjectivity=0.3)\n",
      "Negative\n",
      "\n",
      "#Economy #Argentina\n",
      "\n",
      "New Central Bank chief Miguel Pesce pledges to further cut interest rates, says he hopes to re… https://t.co/lU7IWKY7xR\n",
      "Sentiment(polarity=0.04545454545454545, subjectivity=0.40151515151515155)\n",
      "Positive\n",
      "\n",
      "RT @bswud: Yes, house prices are up because of interest rates. No, this doesn’t mean there is no shortage of housing.\n",
      "Sentiment(polarity=-0.3125, subjectivity=0.6875)\n",
      "Negative\n",
      "\n"
     ]
    }
   ],
   "source": [
    "for tweet in public_tweets:\n",
    "    print(tweet.text)\n",
    "    analysis = TextBlob(tweet.text)\n",
    "    print(analysis.sentiment)\n",
    "    if analysis.sentiment[0]>0:\n",
    "        print ('Positive')\n",
    "    else:\n",
    "        print ('Negative')\n",
    "    print(\"\")"
   ]
  },
  {
   "cell_type": "code",
   "execution_count": 10,
   "metadata": {},
   "outputs": [
    {
     "name": "stdout",
     "output_type": "stream",
     "text": [
      "Chinese : RT @Jerusalem_Post：＃以色列的利率保持不变。\n",
      "\n",
      "@eytanhalon的报道。\n",
      "\n",
      "https://t.co/hMVOYvhQtr\n",
      "Negative\n",
      "\n",
      "Chinese : RT @priyankagandhi：जगहजगहजगहजगहजगहजगहययछुपछुपछुपछुपछुपछुपछुप\n",
      "\n",
      "……\n",
      "Negative\n",
      "\n",
      "Chinese : @ TVietor08 @axios我的一个朋友正在买房，她的利率昨天被锁定，她的经纪人sai…https://t.co/yZvXLlXmsn\n",
      "Negative\n",
      "\n",
      "Chinese : 特朗普是熟人。这些棍子可能一直处于高位，但这是因为它们已经通过低位指数过度膨胀了……https://t.co/TFG8XlhKfk\n",
      "Negative\n",
      "\n",
      "Chinese : 低利率，适度的通货膨胀和稳定的劳动力市场，有许多理由使人们对中国保持乐观……https://t.co/fV6nzpNqDh\n",
      "Positive\n",
      "\n",
      "Chinese : RT @priyankagandhi：जगहजगहजगहजगहजगहजगहययछुपछुपछुपछुपछुपछुपछुप\n",
      "\n",
      "……\n",
      "Negative\n",
      "\n",
      "Chinese : RT @bswud：是的，房价因利率上涨。不，这并不意味着住房不短缺。\n",
      "Negative\n",
      "\n",
      "Chinese : 想象一下，如果利率不是很高！感谢您的资本收益，唐纳德！ https://t.co/4EgDddNmDL\n",
      "Positive\n",
      "\n",
      "Chinese : @silvermomma嗨，利率不是由内尔奈特确定，而是由国会确定。防御和忍耐也可以扮演... https://t.co/VkcsT9yMA8\n",
      "Negative\n",
      "\n",
      "Chinese : @HrReisen不，房地产争论是关于低利率是驱动因素还是供应约束。分... https://t.co/x1MRN4R2DK\n",
      "Positive\n",
      "\n",
      "Chinese : RT @crypto_voices：在这1月9日，与@nvk一起聆听@crypto_voices的3周年纪念演出！这是一个包装好的...\n",
      "Negative\n",
      "\n",
      "Chinese : @Parandeh_Art @ StreetFightr3rd @AyannaPressley您看到我们的股市和失业人数了吗？感兴趣的人…https://t.co/eidHV9QfAB\n",
      "Negative\n",
      "\n",
      "Chinese : 需要您的清单...\n",
      "\n",
      "库存低，利率也低。买家正在寻找...\n",
      "\n",
      "现在是时候卖给您…https://t.co/RmQhMPOhZQ\n",
      "Negative\n",
      "\n",
      "Chinese : ＃经济＃阿根廷\n",
      "\n",
      "新中央银行行长米格尔·佩斯（Miguel Pesce）承诺进一步降低利率，他表示希望重新…https://t.co/lU7IWKY7xR\n",
      "Positive\n",
      "\n",
      "Chinese : RT @bswud：是的，房价因利率上涨。不，这并不意味着住房不短缺。\n",
      "Negative\n",
      "\n"
     ]
    }
   ],
   "source": [
    "for tweet in public_tweets:\n",
    "    newtweet = TextBlob(tweet.text)\n",
    "    print(u\"Chinese : {}\".format(newtweet.translate(from_lang=\"en-US\", to='zh-CN')))\n",
    "    \n",
    "    if newtweet.sentiment[0]>0:\n",
    "        print ('Positive')\n",
    "    else:\n",
    "        print ('Negative')\n",
    "    print(\"\")"
   ]
  },
  {
   "cell_type": "code",
   "execution_count": null,
   "metadata": {},
   "outputs": [],
   "source": []
  }
 ],
 "metadata": {
  "kernelspec": {
   "display_name": "Python 3",
   "language": "python",
   "name": "python3"
  },
  "language_info": {
   "codemirror_mode": {
    "name": "ipython",
    "version": 3
   },
   "file_extension": ".py",
   "mimetype": "text/x-python",
   "name": "python",
   "nbconvert_exporter": "python",
   "pygments_lexer": "ipython3",
   "version": "3.7.4"
  }
 },
 "nbformat": 4,
 "nbformat_minor": 2
}
