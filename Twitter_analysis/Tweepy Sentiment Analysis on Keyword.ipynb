{
 "cells": [
  {
   "cell_type": "code",
   "execution_count": 1,
   "metadata": {},
   "outputs": [],
   "source": [
    "# Dependencies\n",
    "\n",
    "import tweepy\n",
    "from textblob import TextBlob"
   ]
  },
  {
   "cell_type": "code",
   "execution_count": 2,
   "metadata": {},
   "outputs": [],
   "source": [
    "# API key\n",
    "\n",
    "consumer_key= 'XgLfVqV7ADXpG5EHnMgyx3xwo'\n",
    "consumer_secret= '870pskWxaItAxxqdeHK5bbLcfvAv41mSDKgzl9t0YH47ImCHKS'\n",
    "access_token= '56790330-wAee8FiCqQp6AIlaXDrZHfJVa5IDmMwmlPmU2fOqG'\n",
    "access_token_secret= 'lCfFwqHmMCxREpuicnyC2Hs6o4OlVUi0hnzle5Xk24r8n'"
   ]
  },
  {
   "cell_type": "code",
   "execution_count": 3,
   "metadata": {},
   "outputs": [],
   "source": [
    "# Tweepy \n",
    "\n",
    "auth = tweepy.OAuthHandler(consumer_key, consumer_secret)\n",
    "auth.set_access_token(access_token, access_token_secret)\n",
    "\n",
    "api= tweepy.API(auth)"
   ]
  },
  {
   "cell_type": "code",
   "execution_count": 4,
   "metadata": {},
   "outputs": [],
   "source": [
    "# Search Twitter for subjects\n",
    "\n",
    "public_tweets = api.search('federalreserve')"
   ]
  },
  {
   "cell_type": "code",
   "execution_count": 5,
   "metadata": {},
   "outputs": [
    {
     "name": "stdout",
     "output_type": "stream",
     "text": [
      "RT @lydiadepillis: There's been a lot of anecdotal evidence about how tariffs are behind the manufacturing slump. Now the Federal Reserve p…\n",
      "Sentiment(polarity=-0.4, subjectivity=0.7)\n",
      "Negative\n",
      "\n",
      "#FederalReserve prints $107 billion in past four weeks--is it any wonder asset prices are melting up into #NewYear?… https://t.co/5iSj5k4Scd\n",
      "Sentiment(polarity=-0.25, subjectivity=0.25)\n",
      "Negative\n",
      "\n",
      "RT @lydiadepillis: There's been a lot of anecdotal evidence about how tariffs are behind the manufacturing slump. Now the Federal Reserve p…\n",
      "Sentiment(polarity=-0.4, subjectivity=0.7)\n",
      "Negative\n",
      "\n",
      "Alex Newman: \"\"Trump Knows The Stock Market’s A Bubble” https://t.co/3zdX8uxy9K #DonaldTrump #FederalReserve… https://t.co/7RcF2Bqp4i\n",
      "Sentiment(polarity=0.0, subjectivity=0.0)\n",
      "Negative\n",
      "\n",
      "@federalreserve The Fed has induced a modern tulip mania.\n",
      "Sentiment(polarity=0.2, subjectivity=0.3)\n",
      "Positive\n",
      "\n",
      "RT @rcwhalen: #Chrisman: \"Despite the muted inflation figures of this current economic expansion, most consumers' largest expense, housing…\n",
      "Sentiment(polarity=0.2333333333333333, subjectivity=0.3666666666666667)\n",
      "Positive\n",
      "\n",
      "RT @rcwhalen: #Chrisman: \"Despite the muted inflation figures of this current economic expansion, most consumers' largest expense, housing…\n",
      "Sentiment(polarity=0.2333333333333333, subjectivity=0.3666666666666667)\n",
      "Positive\n",
      "\n",
      "RT @elerianm: Re market influence of super-accommodating #CentralBanks , a reminder via @zerohedge: @FederalReserve's current balance sheet…\n",
      "Sentiment(polarity=0.0, subjectivity=0.4)\n",
      "Negative\n",
      "\n",
      "RT @elerianm: Re market influence of super-accommodating #CentralBanks , a reminder via @zerohedge: @FederalReserve's current balance sheet…\n",
      "Sentiment(polarity=0.0, subjectivity=0.4)\n",
      "Negative\n",
      "\n",
      "RT @Mrdoing666: #naturalgas SHORT FOR 1.50$ O 1.60$. WINTER IS DEAD.  @ecb @KremlinRussia_E @DRexplore @GretaThunberg @WarrenBuffett @georg…\n",
      "Sentiment(polarity=-0.1, subjectivity=0.35)\n",
      "Negative\n",
      "\n",
      "@Mike60776642 @Hipster_Trader @zerohedge @federalreserve &gt; thinking stock indices reflect the actual economy\n",
      "Sentiment(polarity=0.0, subjectivity=0.1)\n",
      "Negative\n",
      "\n",
      "RT @rcwhalen: @Convertbond The @federalreserve gooses asset prices to crazy levels with #QE, but depresses earnings for financials with low…\n",
      "Sentiment(polarity=-0.6, subjectivity=0.9)\n",
      "Negative\n",
      "\n",
      "RT @lydiadepillis: There's been a lot of anecdotal evidence about how tariffs are behind the manufacturing slump. Now the Federal Reserve p…\n",
      "Sentiment(polarity=-0.4, subjectivity=0.7)\n",
      "Negative\n",
      "\n",
      "Wells Fargo has tapped its Head of Public Finance to help former Secretary of Commerce Bill Daley resolve the bank’… https://t.co/CwSXyNxbjI\n",
      "Sentiment(polarity=0.0, subjectivity=0.03333333333333333)\n",
      "Negative\n",
      "\n",
      "RT @elerianm: Re market influence of super-accommodating #CentralBanks , a reminder via @zerohedge: @FederalReserve's current balance sheet…\n",
      "Sentiment(polarity=0.0, subjectivity=0.4)\n",
      "Negative\n",
      "\n"
     ]
    }
   ],
   "source": [
    "for tweet in public_tweets:\n",
    "    print(tweet.text)\n",
    "    analysis = TextBlob(tweet.text)\n",
    "    print(analysis.sentiment)\n",
    "    if analysis.sentiment[0]>0:\n",
    "        print ('Positive')\n",
    "    else:\n",
    "        print ('Negative')\n",
    "    print(\"\")"
   ]
  },
  {
   "cell_type": "code",
   "execution_count": null,
   "metadata": {},
   "outputs": [],
   "source": []
  }
 ],
 "metadata": {
  "kernelspec": {
   "display_name": "Python 3",
   "language": "python",
   "name": "python3"
  },
  "language_info": {
   "codemirror_mode": {
    "name": "ipython",
    "version": 3
   },
   "file_extension": ".py",
   "mimetype": "text/x-python",
   "name": "python",
   "nbconvert_exporter": "python",
   "pygments_lexer": "ipython3",
   "version": "3.7.4"
  }
 },
 "nbformat": 4,
 "nbformat_minor": 2
}
