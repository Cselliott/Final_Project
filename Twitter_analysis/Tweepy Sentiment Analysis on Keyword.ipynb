{
 "cells": [
  {
   "cell_type": "code",
   "execution_count": 2,
   "metadata": {},
   "outputs": [
    {
     "name": "stderr",
     "output_type": "stream",
     "text": [
      "[nltk_data] Downloading package movie_reviews to\n",
      "[nltk_data]     C:\\Users\\Chris\\AppData\\Roaming\\nltk_data...\n",
      "[nltk_data]   Unzipping corpora\\movie_reviews.zip.\n"
     ]
    },
    {
     "data": {
      "text/plain": [
       "True"
      ]
     },
     "execution_count": 2,
     "metadata": {},
     "output_type": "execute_result"
    }
   ],
   "source": [
    "# Dependencies\n",
    "import tweepy\n",
    "from textblob import TextBlob\n",
    "from textblob.sentiments import NaiveBayesAnalyzer  # defaults to Pattern\n",
    "import nltk\n",
    "nltk.download('movie_reviews')\n"
   ]
  },
  {
   "cell_type": "code",
   "execution_count": 3,
   "metadata": {},
   "outputs": [],
   "source": [
    "# API key\n",
    "\n",
    "consumer_key= 'XgLfVqV7ADXpG5EHnMgyx3xwo'\n",
    "consumer_secret= '870pskWxaItAxxqdeHK5bbLcfvAv41mSDKgzl9t0YH47ImCHKS'\n",
    "access_token= '56790330-wAee8FiCqQp6AIlaXDrZHfJVa5IDmMwmlPmU2fOqG'\n",
    "access_token_secret= 'lCfFwqHmMCxREpuicnyC2Hs6o4OlVUi0hnzle5Xk24r8n'"
   ]
  },
  {
   "cell_type": "code",
   "execution_count": 4,
   "metadata": {},
   "outputs": [],
   "source": [
    "# Tweepy \n",
    "\n",
    "auth = tweepy.OAuthHandler(consumer_key, consumer_secret)\n",
    "auth.set_access_token(access_token, access_token_secret)\n",
    "\n",
    "api= tweepy.API(auth)"
   ]
  },
  {
   "cell_type": "code",
   "execution_count": 5,
   "metadata": {},
   "outputs": [],
   "source": [
    "# Search Twitter for subjects\n",
    "\n",
    "public_tweets = api.search('interest rates')\n"
   ]
  },
  {
   "cell_type": "code",
   "execution_count": 6,
   "metadata": {},
   "outputs": [
    {
     "name": "stdout",
     "output_type": "stream",
     "text": [
      "RT @ObiWanKenoBit: 4/Yet they will continue to pursue the fallacy of negative interest rates and drive the economy into exhaustion. Ben Ber…\n",
      "Sentiment(polarity=-0.3, subjectivity=0.4)\n",
      "Negative\n",
      "\n",
      "RT @PrestonPysh: More like:\n",
      "Nasdaq on course to 10,000. The hyper-inflation of securities continues, due to on-going, accelerative, Repo op…\n",
      "Sentiment(polarity=0.1875, subjectivity=0.4375)\n",
      "Positive\n",
      "\n",
      "@RobinHoodJr1 @J461Xo @BernieSanders Yes. That’s literally how interest rates are calculated. What are the chances… https://t.co/y2hSjxAK92\n",
      "Sentiment(polarity=0.0, subjectivity=0.0)\n",
      "Negative\n",
      "\n",
      "#newsuneed #recession #projections #money #Federalreserve #interestrate #economy #USA #US\n",
      "While we can only hope th… https://t.co/08m9cMcF3n\n",
      "Sentiment(polarity=0.0, subjectivity=1.0)\n",
      "Negative\n",
      "\n",
      "RT @priyankagandhi: जब देश में जगह-जगह पर तनाव ज्यादा बढ़ जाए तो समझ लीजिए कि सरकार छुप-छुप कर कोई बड़ा झटका देने वाली है। \n",
      "\n",
      "भारत के कर्मचा…\n",
      "Sentiment(polarity=0.0, subjectivity=0.0)\n",
      "Negative\n",
      "\n",
      "@paulkrugman Interest rates are low because the Fed has and is monetizing the debt.\n",
      "Sentiment(polarity=0.0, subjectivity=0.3)\n",
      "Negative\n",
      "\n",
      "@Cheerful20191 @seanhannity Essentially the feds were forced to print money to keep up with Obama's economic polici… https://t.co/dHvjxBUteq\n",
      "Sentiment(polarity=-0.03333333333333335, subjectivity=0.2333333333333333)\n",
      "Negative\n",
      "\n",
      "You still have people looking for jobs when an economy is \"Fully Employed\" (under the technical definition of full… https://t.co/PDFDpvORhj\n",
      "Sentiment(polarity=0.0, subjectivity=0.1)\n",
      "Negative\n",
      "\n",
      "@COMETcapital @paulkrugman ...or they force negative interest rates and need to ban cash.\n",
      "Sentiment(polarity=-0.3, subjectivity=0.4)\n",
      "Negative\n",
      "\n",
      "RT @BullyEsq: WE ARE OVER LEVERAGED, WILDLY INDEBTED, WE REDUCED INTEREST RATES TO DAMN NEAR ZERO, CUT CORPORATE TAXES, AND PRINTED BILLION…\n",
      "Sentiment(polarity=0.06666666666666667, subjectivity=0.26666666666666666)\n",
      "Positive\n",
      "\n",
      "Interest rates...property taxes.. blah blah blah 🙄 all this shit annoying &amp; confusing jus gimme wth I want. Damn it could all be so simple\n",
      "Sentiment(polarity=-0.325, subjectivity=0.6142857142857143)\n",
      "Negative\n",
      "\n",
      "@BillBrewsterSCG but interest rates and FAANG &amp; globalization ... $SPY $QQQ\n",
      "Sentiment(polarity=0.0, subjectivity=0.0)\n",
      "Negative\n",
      "\n",
      "RT @priyankagandhi: जब देश में जगह-जगह पर तनाव ज्यादा बढ़ जाए तो समझ लीजिए कि सरकार छुप-छुप कर कोई बड़ा झटका देने वाली है। \n",
      "\n",
      "भारत के कर्मचा…\n",
      "Sentiment(polarity=0.0, subjectivity=0.0)\n",
      "Negative\n",
      "\n",
      "The US’s natural rate of interest — an estimate of what interest rates would be without any interventions from cent… https://t.co/x13Rjfuo3j\n",
      "Sentiment(polarity=0.1, subjectivity=0.4)\n",
      "Positive\n",
      "\n",
      "RT @priyankagandhi: जब देश में जगह-जगह पर तनाव ज्यादा बढ़ जाए तो समझ लीजिए कि सरकार छुप-छुप कर कोई बड़ा झटका देने वाली है। \n",
      "\n",
      "भारत के कर्मचा…\n",
      "Sentiment(polarity=0.0, subjectivity=0.0)\n",
      "Negative\n",
      "\n"
     ]
    }
   ],
   "source": [
    "for tweet in public_tweets:\n",
    "    print(tweet.text)\n",
    "    analysis = TextBlob(tweet.text)\n",
    "    print(analysis.sentiment)\n",
    "    if analysis.sentiment[0]>0:\n",
    "        print ('Positive')\n",
    "    else:\n",
    "        print ('Negative')\n",
    "    print(\"\")"
   ]
  },
  {
   "cell_type": "code",
   "execution_count": 17,
   "metadata": {},
   "outputs": [
    {
     "data": {
      "text/plain": [
       "'hi'"
      ]
     },
     "execution_count": 17,
     "metadata": {},
     "output_type": "execute_result"
    }
   ],
   "source": [
    "translate = TextBlob(u\"जब देश में जगह-जगह पर तनाव ज्यादा बढ़ जाए तो समझ लीजिए कि सरकार छुप-छुप कर कोई बड़ा झटका देने वाली है। \")\n",
    "translate.detect_language()"
   ]
  },
  {
   "cell_type": "code",
   "execution_count": null,
   "metadata": {},
   "outputs": [],
   "source": []
  }
 ],
 "metadata": {
  "kernelspec": {
   "display_name": "Python 3",
   "language": "python",
   "name": "python3"
  },
  "language_info": {
   "codemirror_mode": {
    "name": "ipython",
    "version": 3
   },
   "file_extension": ".py",
   "mimetype": "text/x-python",
   "name": "python",
   "nbconvert_exporter": "python",
   "pygments_lexer": "ipython3",
   "version": "3.7.3"
  }
 },
 "nbformat": 4,
 "nbformat_minor": 2
}
